{
 "cells": [
  {
   "cell_type": "code",
   "execution_count": 5,
   "id": "e454dba7-474a-4150-b2c4-6358ccdd8c95",
   "metadata": {},
   "outputs": [
    {
     "name": "stdout",
     "output_type": "stream",
     "text": [
      "Index(['1997', '1998', '1999', '2000', '2001', '2002', '2003', '2004', '2005',\n",
      "       '2006', '2007', '2008', '2009', '2010', '2011', '2012', '2013', '2014',\n",
      "       '2015', '2016', '2017', '2018', '2019', '2020', '2021', '2022', '2023',\n",
      "       '2024'],\n",
      "      dtype='object')\n"
     ]
    }
   ],
   "source": [
    "import pandas as pd\n",
    "import numpy as np\n",
    "\n",
    "comebacks = pd.read_csv('playoffComebacks.csv')\n",
    "leads = pd.read_csv('playoffLeads.csv')\n",
    "\n",
    "keys = range(1997, 2024)\n"
   ]
  },
  {
   "cell_type": "code",
   "execution_count": null,
   "id": "3fa810ed-9cc1-4d40-b54b-f651d662f558",
   "metadata": {},
   "outputs": [],
   "source": []
  }
 ],
 "metadata": {
  "kernelspec": {
   "display_name": "Python 3 (ipykernel)",
   "language": "python",
   "name": "python3"
  },
  "language_info": {
   "codemirror_mode": {
    "name": "ipython",
    "version": 3
   },
   "file_extension": ".py",
   "mimetype": "text/x-python",
   "name": "python",
   "nbconvert_exporter": "python",
   "pygments_lexer": "ipython3",
   "version": "3.11.4"
  }
 },
 "nbformat": 4,
 "nbformat_minor": 5
}
